{
 "cells": [
  {
   "cell_type": "markdown",
   "metadata": {},
   "source": [
    "#### This is practice code to learn basics of web scraping using BeautifulSoup & Requests packages"
   ]
  },
  {
   "cell_type": "code",
   "execution_count": 2,
   "metadata": {},
   "outputs": [],
   "source": [
    "from bs4 import BeautifulSoup\n",
    "import requests"
   ]
  },
  {
   "cell_type": "markdown",
   "metadata": {},
   "source": [
    "If packages are not installed, install them by running following code:"
   ]
  },
  {
   "cell_type": "code",
   "execution_count": 28,
   "metadata": {},
   "outputs": [],
   "source": [
    "!pip install requests beautifulsoup4"
   ]
  },
  {
   "cell_type": "markdown",
   "metadata": {},
   "source": [
    "Enter URL which has to be scraped"
   ]
  },
  {
   "cell_type": "code",
   "execution_count": 10,
   "metadata": {},
   "outputs": [],
   "source": [
    "url = \"https://analyticsindiamag.com/50-data-science-and-analysts-jobs-that-opened-just-last-week/\""
   ]
  },
  {
   "cell_type": "code",
   "execution_count": 11,
   "metadata": {},
   "outputs": [],
   "source": [
    "html_content = requests.get(url).text\n",
    "soup = BeautifulSoup(html_content, \"lxml\")"
   ]
  },
  {
   "cell_type": "markdown",
   "metadata": {},
   "source": [
    "Print title of the webpage"
   ]
  },
  {
   "cell_type": "code",
   "execution_count": 29,
   "metadata": {},
   "outputs": [],
   "source": [
    "print(soup.title.text)"
   ]
  },
  {
   "cell_type": "markdown",
   "metadata": {},
   "source": [
    "Print entire html page"
   ]
  },
  {
   "cell_type": "code",
   "execution_count": 26,
   "metadata": {},
   "outputs": [],
   "source": [
    "print(soup.prettify())"
   ]
  },
  {
   "cell_type": "markdown",
   "metadata": {},
   "source": [
    "If we want to see what's in there within any specific tag, we can check it in following way"
   ]
  },
  {
   "cell_type": "code",
   "execution_count": 27,
   "metadata": {},
   "outputs": [],
   "source": [
    "for link in soup.find_all(\"a\"):\n",
    "    print(\"Inner Text : {}\".format(link.text))\n",
    "    print(\"Title : {}\".format(link.get('title')))\n",
    "    print(\"href : {}\".format(link.get('href')))"
   ]
  },
  {
   "cell_type": "markdown",
   "metadata": {},
   "source": [
    "#### Code for actual problem starts from here:\n",
    "  From the URL provided earlier, we have to extract job opening information (title, location & description) in tabular format"
   ]
  },
  {
   "cell_type": "code",
   "execution_count": 16,
   "metadata": {},
   "outputs": [],
   "source": [
    "str1 = \"Location:\"\n",
    "str2 = \"Skills Required:\"\n",
    "str3 = \"|\"\n",
    "Job_Title = []\n",
    "Description = []\n",
    "Location = []\n",
    "\n",
    "for link in soup.find_all(\"p\"):\n",
    "    ind1 = link.text.find(str1)\n",
    "    ind2 = link.text.find(str2)    \n",
    "    if  ind1 != -1:        \n",
    "        Location.append(link.text[ind1+len(str1):])        \n",
    "    if ind2 != -1:\n",
    "        Description.append(link.text[ind2+len(str2):])\n",
    "\n",
    "for link in soup.find_all(\"strong\"):\n",
    "    ind3 = link.text.find(str3)\n",
    "    if ind3 != -1:\n",
    "        Job_Title.append(link.text[ind3+len(str3):])\n",
    "            "
   ]
  },
  {
   "cell_type": "code",
   "execution_count": 30,
   "metadata": {},
   "outputs": [],
   "source": [
    "len(Description), len(Location), len(Job_Title)"
   ]
  },
  {
   "cell_type": "code",
   "execution_count": 31,
   "metadata": {},
   "outputs": [],
   "source": [
    "import pandas as pd\n",
    "df = pd.DataFrame(list(zip(Job_Title, Location, Description)), columns={'Job Title', 'Location', 'Description'})\n",
    "#pd.set_option('display.max_colwidth', 150)\n",
    "#pd.reset_option('display.max_colwidth')\n",
    "df"
   ]
  },
  {
   "cell_type": "code",
   "execution_count": 32,
   "metadata": {},
   "outputs": [],
   "source": [
    "for link in soup.find_all(\"strong\"):\n",
    "    if link.text.find(\":\") == -1 & link.text.find(\"|\") == -1:\n",
    "        print(link.text)"
   ]
  },
  {
   "cell_type": "code",
   "execution_count": null,
   "metadata": {},
   "outputs": [],
   "source": []
  }
 ],
 "metadata": {
  "kernelspec": {
   "display_name": "Python 3",
   "language": "python",
   "name": "python3"
  },
  "language_info": {
   "codemirror_mode": {
    "name": "ipython",
    "version": 3
   },
   "file_extension": ".py",
   "mimetype": "text/x-python",
   "name": "python",
   "nbconvert_exporter": "python",
   "pygments_lexer": "ipython3",
   "version": "3.7.0"
  }
 },
 "nbformat": 4,
 "nbformat_minor": 2
}
